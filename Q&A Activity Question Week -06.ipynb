{
 "cells": [
  {
   "cell_type": "markdown",
   "id": "cf25bd8d",
   "metadata": {},
   "source": [
    "# Q&A Activity Question Week -06"
   ]
  },
  {
   "cell_type": "code",
   "execution_count": null,
   "id": "898b5416",
   "metadata": {},
   "outputs": [],
   "source": [
    "# Get current working directory and paste the spreadsheet. Once pasted, read the spreadsheet and import all relevant libraries"
   ]
  },
  {
   "cell_type": "code",
   "execution_count": 2,
   "id": "9afe2c54",
   "metadata": {},
   "outputs": [
    {
     "name": "stdout",
     "output_type": "stream",
     "text": [
      "C:\\Users\\The.Maqtron\n"
     ]
    },
    {
     "data": {
      "text/html": [
       "<div>\n",
       "<style scoped>\n",
       "    .dataframe tbody tr th:only-of-type {\n",
       "        vertical-align: middle;\n",
       "    }\n",
       "\n",
       "    .dataframe tbody tr th {\n",
       "        vertical-align: top;\n",
       "    }\n",
       "\n",
       "    .dataframe thead th {\n",
       "        text-align: right;\n",
       "    }\n",
       "</style>\n",
       "<table border=\"1\" class=\"dataframe\">\n",
       "  <thead>\n",
       "    <tr style=\"text-align: right;\">\n",
       "      <th></th>\n",
       "      <th>country</th>\n",
       "      <th>Region</th>\n",
       "      <th>Surface area (km2)</th>\n",
       "      <th>Population in thousands (2017)</th>\n",
       "      <th>GDP per capita (current US$)</th>\n",
       "      <th>Agricultural production index</th>\n",
       "      <th>International trade: Imports (million US$)</th>\n",
       "    </tr>\n",
       "  </thead>\n",
       "  <tbody>\n",
       "    <tr>\n",
       "      <th>0</th>\n",
       "      <td>Afghanistan</td>\n",
       "      <td>SouthernAsia</td>\n",
       "      <td>652864</td>\n",
       "      <td>35530</td>\n",
       "      <td>623.2</td>\n",
       "      <td>125</td>\n",
       "      <td>3568</td>\n",
       "    </tr>\n",
       "    <tr>\n",
       "      <th>1</th>\n",
       "      <td>Albania</td>\n",
       "      <td>SouthernEurope</td>\n",
       "      <td>28748</td>\n",
       "      <td>2930</td>\n",
       "      <td>3984.2</td>\n",
       "      <td>134</td>\n",
       "      <td>4669</td>\n",
       "    </tr>\n",
       "    <tr>\n",
       "      <th>2</th>\n",
       "      <td>Algeria</td>\n",
       "      <td>NorthernAfrica</td>\n",
       "      <td>2381741</td>\n",
       "      <td>41318</td>\n",
       "      <td>4154.1</td>\n",
       "      <td>160</td>\n",
       "      <td>47091</td>\n",
       "    </tr>\n",
       "    <tr>\n",
       "      <th>3</th>\n",
       "      <td>Angola</td>\n",
       "      <td>MiddleAfrica</td>\n",
       "      <td>1246700</td>\n",
       "      <td>29784</td>\n",
       "      <td>4714.1</td>\n",
       "      <td>175</td>\n",
       "      <td>8790</td>\n",
       "    </tr>\n",
       "    <tr>\n",
       "      <th>4</th>\n",
       "      <td>Antigua and Barbuda</td>\n",
       "      <td>Caribbean</td>\n",
       "      <td>442</td>\n",
       "      <td>102</td>\n",
       "      <td>14764.5</td>\n",
       "      <td>88</td>\n",
       "      <td>491</td>\n",
       "    </tr>\n",
       "    <tr>\n",
       "      <th>...</th>\n",
       "      <td>...</td>\n",
       "      <td>...</td>\n",
       "      <td>...</td>\n",
       "      <td>...</td>\n",
       "      <td>...</td>\n",
       "      <td>...</td>\n",
       "      <td>...</td>\n",
       "    </tr>\n",
       "    <tr>\n",
       "      <th>191</th>\n",
       "      <td>Venezuela (Bolivarian Republic of)</td>\n",
       "      <td>SouthAmerica</td>\n",
       "      <td>912050</td>\n",
       "      <td>31977</td>\n",
       "      <td>11068.9</td>\n",
       "      <td>118</td>\n",
       "      <td>16324</td>\n",
       "    </tr>\n",
       "    <tr>\n",
       "      <th>192</th>\n",
       "      <td>Viet Nam</td>\n",
       "      <td>South-easternAsia</td>\n",
       "      <td>330967</td>\n",
       "      <td>95541</td>\n",
       "      <td>2067.9</td>\n",
       "      <td>136</td>\n",
       "      <td>174111</td>\n",
       "    </tr>\n",
       "    <tr>\n",
       "      <th>193</th>\n",
       "      <td>Yemen</td>\n",
       "      <td>WesternAsia</td>\n",
       "      <td>527968</td>\n",
       "      <td>28250</td>\n",
       "      <td>1106.4</td>\n",
       "      <td>136</td>\n",
       "      <td>6861</td>\n",
       "    </tr>\n",
       "    <tr>\n",
       "      <th>194</th>\n",
       "      <td>Zambia</td>\n",
       "      <td>EasternAfrica</td>\n",
       "      <td>752612</td>\n",
       "      <td>17094</td>\n",
       "      <td>1311.1</td>\n",
       "      <td>179</td>\n",
       "      <td>7442</td>\n",
       "    </tr>\n",
       "    <tr>\n",
       "      <th>195</th>\n",
       "      <td>Zimbabwe</td>\n",
       "      <td>EasternAfrica</td>\n",
       "      <td>390757</td>\n",
       "      <td>16530</td>\n",
       "      <td>890.4</td>\n",
       "      <td>99</td>\n",
       "      <td>5212</td>\n",
       "    </tr>\n",
       "  </tbody>\n",
       "</table>\n",
       "<p>196 rows × 7 columns</p>\n",
       "</div>"
      ],
      "text/plain": [
       "                                country             Region  \\\n",
       "0                           Afghanistan       SouthernAsia   \n",
       "1                               Albania     SouthernEurope   \n",
       "2                               Algeria     NorthernAfrica   \n",
       "3                                Angola       MiddleAfrica   \n",
       "4                   Antigua and Barbuda          Caribbean   \n",
       "..                                  ...                ...   \n",
       "191  Venezuela (Bolivarian Republic of)       SouthAmerica   \n",
       "192                            Viet Nam  South-easternAsia   \n",
       "193                               Yemen        WesternAsia   \n",
       "194                              Zambia      EasternAfrica   \n",
       "195                            Zimbabwe      EasternAfrica   \n",
       "\n",
       "     Surface area (km2)  Population in thousands (2017)  \\\n",
       "0                652864                           35530   \n",
       "1                 28748                            2930   \n",
       "2               2381741                           41318   \n",
       "3               1246700                           29784   \n",
       "4                   442                             102   \n",
       "..                  ...                             ...   \n",
       "191              912050                           31977   \n",
       "192              330967                           95541   \n",
       "193              527968                           28250   \n",
       "194              752612                           17094   \n",
       "195              390757                           16530   \n",
       "\n",
       "     GDP per capita (current US$)  Agricultural production index   \\\n",
       "0                           623.2                             125   \n",
       "1                          3984.2                             134   \n",
       "2                          4154.1                             160   \n",
       "3                          4714.1                             175   \n",
       "4                         14764.5                              88   \n",
       "..                            ...                             ...   \n",
       "191                       11068.9                             118   \n",
       "192                        2067.9                             136   \n",
       "193                        1106.4                             136   \n",
       "194                        1311.1                             179   \n",
       "195                         890.4                              99   \n",
       "\n",
       "     International trade: Imports (million US$)  \n",
       "0                                          3568  \n",
       "1                                          4669  \n",
       "2                                         47091  \n",
       "3                                          8790  \n",
       "4                                           491  \n",
       "..                                          ...  \n",
       "191                                       16324  \n",
       "192                                      174111  \n",
       "193                                        6861  \n",
       "194                                        7442  \n",
       "195                                        5212  \n",
       "\n",
       "[196 rows x 7 columns]"
      ]
     },
     "execution_count": 2,
     "metadata": {},
     "output_type": "execute_result"
    }
   ],
   "source": [
    "import os\n",
    "print(os.getcwd())\n",
    "\n",
    "import pandas as pd\n",
    "import numpy as np\n",
    "import matplotlib.pyplot as plt\n",
    "import seaborn as sns\n",
    "\n",
    "#Load the xls sheet to a variable named spreadsheet\n",
    "spreadsheet = pd.ExcelFile(r\"Dataset_w6.xlsx\")\n",
    "#Move the first sheet (with index value 0) to sstab1 \n",
    "country_data = spreadsheet.parse(0)\n",
    "country_data"
   ]
  },
  {
   "cell_type": "markdown",
   "id": "d1c8178b",
   "metadata": {},
   "source": [
    "# 1. Find out how many countries are there in the dataset.\n"
   ]
  },
  {
   "cell_type": "code",
   "execution_count": 3,
   "id": "e1b55add",
   "metadata": {},
   "outputs": [
    {
     "data": {
      "text/plain": [
       "count                     196\n",
       "unique                    196\n",
       "top       Antigua and Barbuda\n",
       "freq                        1\n",
       "Name: country, dtype: object"
      ]
     },
     "execution_count": 3,
     "metadata": {},
     "output_type": "execute_result"
    }
   ],
   "source": [
    "#Use the describe function over the country column to find the count of countries . \n",
    "country_data['country'].describe()"
   ]
  },
  {
   "cell_type": "markdown",
   "id": "5b818a06",
   "metadata": {},
   "source": [
    "# Insight:\n",
    "     It is evident that there are 196 unique countries in the dataset"
   ]
  },
  {
   "cell_type": "markdown",
   "id": "576276dc",
   "metadata": {},
   "source": [
    "# 2. Examine the data by using visualizations.\n"
   ]
  },
  {
   "cell_type": "code",
   "execution_count": 20,
   "id": "dfe7ee4f",
   "metadata": {},
   "outputs": [
    {
     "data": {
      "image/png": "[encoded data removed]",
      "text/plain": [
       "<Figure size 720x720 with 2 Axes>"
      ]
     },
     "metadata": {
      "needs_background": "light"
     },
     "output_type": "display_data"
    }
   ],
   "source": [
    "import seaborn as sns\n",
    "import matplotlib.pyplot as plt\n",
    "\n",
    "plt.figure(figsize=(10,10))\n",
    "\n",
    "plt.subplot(2,1,1)\n",
    "sns.barplot(x = 'Region', y = 'GDP per capita (current US$)',data = country_data)\n",
    "plt.title(' Region vs GDP ',fontsize = 15)\n",
    "plt.xlabel('Region')\n",
    "plt.ylabel('GDP')\n",
    "plt.xticks(rotation = 90)\n",
    "\n",
    "plt.subplot(2,1,2)\n",
    "sns.barplot(x = 'Region', y = 'Agricultural production index ',data = country_data)\n",
    "plt.title('Region vs Agricultural production index',fontsize = 15)\n",
    "plt.xticks(rotation = 90)\n",
    "plt.tight_layout()\n",
    "plt.show()"
   ]
  },
  {
   "cell_type": "markdown",
   "id": "12eacd2b",
   "metadata": {},
   "source": [
    "# INSIGHTS :\n",
    "Top 3 regions with high GDP are Northern America , Western Europe & Oceania respectively. &\n",
    "Top 3 regions With higher  Agricultural production index are South-eastern asia , central asia & EasternAsia respectively.\n",
    "So , its shows that the  the Agricultural production index is not making any effect on the GDP of the region."
   ]
  },
  {
   "cell_type": "markdown",
   "id": "5d8b446d",
   "metadata": {},
   "source": [
    "# 3 Find out how many countries with respect to Regions are there in the dataset"
   ]
  },
  {
   "cell_type": "code",
   "execution_count": 4,
   "id": "b37b9e33",
   "metadata": {},
   "outputs": [
    {
     "data": {
      "text/html": [
       "<div>\n",
       "<style scoped>\n",
       "    .dataframe tbody tr th:only-of-type {\n",
       "        vertical-align: middle;\n",
       "    }\n",
       "\n",
       "    .dataframe tbody tr th {\n",
       "        vertical-align: top;\n",
       "    }\n",
       "\n",
       "    .dataframe thead th {\n",
       "        text-align: right;\n",
       "    }\n",
       "</style>\n",
       "<table border=\"1\" class=\"dataframe\">\n",
       "  <thead>\n",
       "    <tr style=\"text-align: right;\">\n",
       "      <th></th>\n",
       "      <th>count</th>\n",
       "      <th>unique</th>\n",
       "      <th>top</th>\n",
       "      <th>freq</th>\n",
       "    </tr>\n",
       "    <tr>\n",
       "      <th>Region</th>\n",
       "      <th></th>\n",
       "      <th></th>\n",
       "      <th></th>\n",
       "      <th></th>\n",
       "    </tr>\n",
       "  </thead>\n",
       "  <tbody>\n",
       "    <tr>\n",
       "      <th>Caribbean</th>\n",
       "      <td>16</td>\n",
       "      <td>16</td>\n",
       "      <td>Antigua and Barbuda</td>\n",
       "      <td>1</td>\n",
       "    </tr>\n",
       "    <tr>\n",
       "      <th>CentralAmerica</th>\n",
       "      <td>8</td>\n",
       "      <td>8</td>\n",
       "      <td>Panama</td>\n",
       "      <td>1</td>\n",
       "    </tr>\n",
       "    <tr>\n",
       "      <th>CentralAsia</th>\n",
       "      <td>5</td>\n",
       "      <td>5</td>\n",
       "      <td>Uzbekistan</td>\n",
       "      <td>1</td>\n",
       "    </tr>\n",
       "    <tr>\n",
       "      <th>EasternAfrica</th>\n",
       "      <td>17</td>\n",
       "      <td>17</td>\n",
       "      <td>Malawi</td>\n",
       "      <td>1</td>\n",
       "    </tr>\n",
       "    <tr>\n",
       "      <th>EasternAsia</th>\n",
       "      <td>7</td>\n",
       "      <td>7</td>\n",
       "      <td>China, Macao SAR</td>\n",
       "      <td>1</td>\n",
       "    </tr>\n",
       "    <tr>\n",
       "      <th>EasternEurope</th>\n",
       "      <td>10</td>\n",
       "      <td>10</td>\n",
       "      <td>Bulgaria</td>\n",
       "      <td>1</td>\n",
       "    </tr>\n",
       "    <tr>\n",
       "      <th>Melanesia</th>\n",
       "      <td>5</td>\n",
       "      <td>5</td>\n",
       "      <td>Fiji</td>\n",
       "      <td>1</td>\n",
       "    </tr>\n",
       "    <tr>\n",
       "      <th>Micronesia</th>\n",
       "      <td>4</td>\n",
       "      <td>4</td>\n",
       "      <td>Micronesia (Federated States of)</td>\n",
       "      <td>1</td>\n",
       "    </tr>\n",
       "    <tr>\n",
       "      <th>MiddleAfrica</th>\n",
       "      <td>9</td>\n",
       "      <td>9</td>\n",
       "      <td>Angola</td>\n",
       "      <td>1</td>\n",
       "    </tr>\n",
       "    <tr>\n",
       "      <th>NorthernAfrica</th>\n",
       "      <td>5</td>\n",
       "      <td>5</td>\n",
       "      <td>Tunisia</td>\n",
       "      <td>1</td>\n",
       "    </tr>\n",
       "    <tr>\n",
       "      <th>NorthernAmerica</th>\n",
       "      <td>4</td>\n",
       "      <td>4</td>\n",
       "      <td>Canada</td>\n",
       "      <td>1</td>\n",
       "    </tr>\n",
       "    <tr>\n",
       "      <th>NorthernEurope</th>\n",
       "      <td>10</td>\n",
       "      <td>10</td>\n",
       "      <td>Norway</td>\n",
       "      <td>1</td>\n",
       "    </tr>\n",
       "    <tr>\n",
       "      <th>Oceania</th>\n",
       "      <td>2</td>\n",
       "      <td>2</td>\n",
       "      <td>Australia</td>\n",
       "      <td>1</td>\n",
       "    </tr>\n",
       "    <tr>\n",
       "      <th>Polynesia</th>\n",
       "      <td>5</td>\n",
       "      <td>5</td>\n",
       "      <td>Cook Islands</td>\n",
       "      <td>1</td>\n",
       "    </tr>\n",
       "    <tr>\n",
       "      <th>South-easternAsia</th>\n",
       "      <td>11</td>\n",
       "      <td>11</td>\n",
       "      <td>Lao People's Democratic Republic</td>\n",
       "      <td>1</td>\n",
       "    </tr>\n",
       "    <tr>\n",
       "      <th>SouthAmerica</th>\n",
       "      <td>12</td>\n",
       "      <td>12</td>\n",
       "      <td>Ecuador</td>\n",
       "      <td>1</td>\n",
       "    </tr>\n",
       "    <tr>\n",
       "      <th>SouthernAfrica</th>\n",
       "      <td>5</td>\n",
       "      <td>5</td>\n",
       "      <td>Namibia</td>\n",
       "      <td>1</td>\n",
       "    </tr>\n",
       "    <tr>\n",
       "      <th>SouthernAsia</th>\n",
       "      <td>9</td>\n",
       "      <td>9</td>\n",
       "      <td>Bangladesh</td>\n",
       "      <td>1</td>\n",
       "    </tr>\n",
       "    <tr>\n",
       "      <th>SouthernEurope</th>\n",
       "      <td>12</td>\n",
       "      <td>12</td>\n",
       "      <td>Bosnia and Herzegovina</td>\n",
       "      <td>1</td>\n",
       "    </tr>\n",
       "    <tr>\n",
       "      <th>WesternAfrica</th>\n",
       "      <td>15</td>\n",
       "      <td>15</td>\n",
       "      <td>Togo</td>\n",
       "      <td>1</td>\n",
       "    </tr>\n",
       "    <tr>\n",
       "      <th>WesternAsia</th>\n",
       "      <td>18</td>\n",
       "      <td>18</td>\n",
       "      <td>Armenia</td>\n",
       "      <td>1</td>\n",
       "    </tr>\n",
       "    <tr>\n",
       "      <th>WesternEurope</th>\n",
       "      <td>7</td>\n",
       "      <td>7</td>\n",
       "      <td>France</td>\n",
       "      <td>1</td>\n",
       "    </tr>\n",
       "  </tbody>\n",
       "</table>\n",
       "</div>"
      ],
      "text/plain": [
       "                  count unique                               top freq\n",
       "Region                                                               \n",
       "Caribbean            16     16               Antigua and Barbuda    1\n",
       "CentralAmerica        8      8                            Panama    1\n",
       "CentralAsia           5      5                        Uzbekistan    1\n",
       "EasternAfrica        17     17                            Malawi    1\n",
       "EasternAsia           7      7                  China, Macao SAR    1\n",
       "EasternEurope        10     10                          Bulgaria    1\n",
       "Melanesia             5      5                              Fiji    1\n",
       "Micronesia            4      4  Micronesia (Federated States of)    1\n",
       "MiddleAfrica          9      9                            Angola    1\n",
       "NorthernAfrica        5      5                           Tunisia    1\n",
       "NorthernAmerica       4      4                            Canada    1\n",
       "NorthernEurope       10     10                            Norway    1\n",
       "Oceania               2      2                         Australia    1\n",
       "Polynesia             5      5                      Cook Islands    1\n",
       "South-easternAsia    11     11  Lao People's Democratic Republic    1\n",
       "SouthAmerica         12     12                           Ecuador    1\n",
       "SouthernAfrica        5      5                           Namibia    1\n",
       "SouthernAsia          9      9                        Bangladesh    1\n",
       "SouthernEurope       12     12            Bosnia and Herzegovina    1\n",
       "WesternAfrica        15     15                              Togo    1\n",
       "WesternAsia          18     18                           Armenia    1\n",
       "WesternEurope         7      7                            France    1"
      ]
     },
     "execution_count": 4,
     "metadata": {},
     "output_type": "execute_result"
    }
   ],
   "source": [
    "# We can use the combinations of groupby & describe functions to get the counts & unique counts wrt region\n",
    "country_data.groupby(['Region'])['country'].describe()"
   ]
  },
  {
   "cell_type": "markdown",
   "id": "b33e8b34",
   "metadata": {},
   "source": [
    "# Insight:\n",
    "    The above shows the count & unique counts of the number of countries with respect to each region"
   ]
  },
  {
   "cell_type": "markdown",
   "id": "1b15502f",
   "metadata": {},
   "source": [
    "# 4. On average which region has the highest\n",
    "◉ a) GDP Per capita (Current US Dollar )    \n",
    "◉ b ) International Trade Imports"
   ]
  },
  {
   "cell_type": "code",
   "execution_count": 8,
   "id": "cd72ee0b",
   "metadata": {},
   "outputs": [
    {
     "data": {
      "text/html": [
       "<div>\n",
       "<style scoped>\n",
       "    .dataframe tbody tr th:only-of-type {\n",
       "        vertical-align: middle;\n",
       "    }\n",
       "\n",
       "    .dataframe tbody tr th {\n",
       "        vertical-align: top;\n",
       "    }\n",
       "\n",
       "    .dataframe thead th {\n",
       "        text-align: right;\n",
       "    }\n",
       "</style>\n",
       "<table border=\"1\" class=\"dataframe\">\n",
       "  <thead>\n",
       "    <tr style=\"text-align: right;\">\n",
       "      <th></th>\n",
       "      <th>Region</th>\n",
       "      <th>GDP per capita (current US$)</th>\n",
       "    </tr>\n",
       "  </thead>\n",
       "  <tbody>\n",
       "    <tr>\n",
       "      <th>10</th>\n",
       "      <td>NorthernAmerica</td>\n",
       "      <td>57659.000000</td>\n",
       "    </tr>\n",
       "    <tr>\n",
       "      <th>21</th>\n",
       "      <td>WesternEurope</td>\n",
       "      <td>55387.128571</td>\n",
       "    </tr>\n",
       "    <tr>\n",
       "      <th>12</th>\n",
       "      <td>Oceania</td>\n",
       "      <td>44823.250000</td>\n",
       "    </tr>\n",
       "    <tr>\n",
       "      <th>11</th>\n",
       "      <td>NorthernEurope</td>\n",
       "      <td>42098.220000</td>\n",
       "    </tr>\n",
       "    <tr>\n",
       "      <th>4</th>\n",
       "      <td>EasternAsia</td>\n",
       "      <td>27967.614286</td>\n",
       "    </tr>\n",
       "  </tbody>\n",
       "</table>\n",
       "</div>"
      ],
      "text/plain": [
       "             Region  GDP per capita (current US$)\n",
       "10  NorthernAmerica                  57659.000000\n",
       "21    WesternEurope                  55387.128571\n",
       "12          Oceania                  44823.250000\n",
       "11   NorthernEurope                  42098.220000\n",
       "4       EasternAsia                  27967.614286"
      ]
     },
     "execution_count": 8,
     "metadata": {},
     "output_type": "execute_result"
    }
   ],
   "source": [
    "# create a data frame of Region and mean GDP per capita of that region\n",
    "rgn_gdp_data = country_data.groupby(['Region'])['GDP per capita (current US$)'].mean().reset_index()\n",
    "# get the top 5 regions based on GDP Per capita\n",
    "rgn_highest_gdp = rgn_gdp_data.nlargest(5,'GDP per capita (current US$)')\n",
    "# Display the 5 regions\n",
    "rgn_highest_gdp\n"
   ]
  },
  {
   "cell_type": "markdown",
   "id": "8095ee15",
   "metadata": {},
   "source": [
    "# Insights:\n",
    "    It is clear that Northern america has the highest GDP Per capita "
   ]
  },
  {
   "cell_type": "code",
   "execution_count": 9,
   "id": "28cbb448",
   "metadata": {},
   "outputs": [
    {
     "data": {
      "text/html": [
       "<div>\n",
       "<style scoped>\n",
       "    .dataframe tbody tr th:only-of-type {\n",
       "        vertical-align: middle;\n",
       "    }\n",
       "\n",
       "    .dataframe tbody tr th {\n",
       "        vertical-align: top;\n",
       "    }\n",
       "\n",
       "    .dataframe thead th {\n",
       "        text-align: right;\n",
       "    }\n",
       "</style>\n",
       "<table border=\"1\" class=\"dataframe\">\n",
       "  <thead>\n",
       "    <tr style=\"text-align: right;\">\n",
       "      <th></th>\n",
       "      <th>Region</th>\n",
       "      <th>International trade: Imports (million US$)</th>\n",
       "    </tr>\n",
       "  </thead>\n",
       "  <tbody>\n",
       "    <tr>\n",
       "      <th>4</th>\n",
       "      <td>EasternAsia</td>\n",
       "      <td>3163965</td>\n",
       "    </tr>\n",
       "    <tr>\n",
       "      <th>21</th>\n",
       "      <td>WesternEurope</td>\n",
       "      <td>2852489</td>\n",
       "    </tr>\n",
       "    <tr>\n",
       "      <th>10</th>\n",
       "      <td>NorthernAmerica</td>\n",
       "      <td>2654209</td>\n",
       "    </tr>\n",
       "    <tr>\n",
       "      <th>11</th>\n",
       "      <td>NorthernEurope</td>\n",
       "      <td>1134072</td>\n",
       "    </tr>\n",
       "    <tr>\n",
       "      <th>14</th>\n",
       "      <td>South-easternAsia</td>\n",
       "      <td>1081571</td>\n",
       "    </tr>\n",
       "  </tbody>\n",
       "</table>\n",
       "</div>"
      ],
      "text/plain": [
       "               Region  International trade: Imports (million US$)\n",
       "4         EasternAsia                                     3163965\n",
       "21      WesternEurope                                     2852489\n",
       "10    NorthernAmerica                                     2654209\n",
       "11     NorthernEurope                                     1134072\n",
       "14  South-easternAsia                                     1081571"
      ]
     },
     "execution_count": 9,
     "metadata": {},
     "output_type": "execute_result"
    }
   ],
   "source": [
    "# create a data frame of Region and sum of imports\n",
    "rgn_itd_data = country_data.groupby(['Region'])['International trade: Imports (million US$)'].sum().reset_index()\n",
    "# get the top 5 regions based on import sum \n",
    "rgn_itd_top = rgn_itd_data.nlargest(5,'International trade: Imports (million US$)')\n",
    "# Display the top 5 regions\n",
    "rgn_itd_top"
   ]
  },
  {
   "cell_type": "markdown",
   "id": "72390375",
   "metadata": {},
   "source": [
    "# Insights:\n",
    "    It is clear that the Eastern Asia has the largest import dollars"
   ]
  },
  {
   "cell_type": "markdown",
   "id": "afcb52c6",
   "metadata": {},
   "source": [
    "# 5. Find out which region has more consistent wrt GDP Per capita ( Current USD )"
   ]
  },
  {
   "cell_type": "code",
   "execution_count": 10,
   "id": "cea66361",
   "metadata": {},
   "outputs": [
    {
     "data": {
      "text/html": [
       "<div>\n",
       "<style scoped>\n",
       "    .dataframe tbody tr th:only-of-type {\n",
       "        vertical-align: middle;\n",
       "    }\n",
       "\n",
       "    .dataframe tbody tr th {\n",
       "        vertical-align: top;\n",
       "    }\n",
       "\n",
       "    .dataframe thead th {\n",
       "        text-align: right;\n",
       "    }\n",
       "</style>\n",
       "<table border=\"1\" class=\"dataframe\">\n",
       "  <thead>\n",
       "    <tr style=\"text-align: right;\">\n",
       "      <th></th>\n",
       "      <th>Region</th>\n",
       "      <th>GDP per capita (current US$)</th>\n",
       "    </tr>\n",
       "  </thead>\n",
       "  <tbody>\n",
       "    <tr>\n",
       "      <th>19</th>\n",
       "      <td>WesternAfrica</td>\n",
       "      <td>815.095399</td>\n",
       "    </tr>\n",
       "    <tr>\n",
       "      <th>9</th>\n",
       "      <td>NorthernAfrica</td>\n",
       "      <td>974.706575</td>\n",
       "    </tr>\n",
       "    <tr>\n",
       "      <th>16</th>\n",
       "      <td>SouthernAfrica</td>\n",
       "      <td>2177.551120</td>\n",
       "    </tr>\n",
       "    <tr>\n",
       "      <th>17</th>\n",
       "      <td>SouthernAsia</td>\n",
       "      <td>2855.708179</td>\n",
       "    </tr>\n",
       "    <tr>\n",
       "      <th>3</th>\n",
       "      <td>EasternAfrica</td>\n",
       "      <td>3716.131770</td>\n",
       "    </tr>\n",
       "  </tbody>\n",
       "</table>\n",
       "</div>"
      ],
      "text/plain": [
       "            Region  GDP per capita (current US$)\n",
       "19   WesternAfrica                    815.095399\n",
       "9   NorthernAfrica                    974.706575\n",
       "16  SouthernAfrica                   2177.551120\n",
       "17    SouthernAsia                   2855.708179\n",
       "3    EasternAfrica                   3716.131770"
      ]
     },
     "execution_count": 10,
     "metadata": {},
     "output_type": "execute_result"
    }
   ],
   "source": [
    "# Group the regions based on the value of standard devation of GDP Per capita\n",
    "Region_GDP_PC = country_data.groupby(['Region'])['GDP per capita (current US$)'].std().reset_index()\n",
    "#Find the 5 Regions having smallest standard devations for GDP Per capita  \n",
    "Region_GDP_consistent = Region_GDP_PC.nsmallest(5,'GDP per capita (current US$)')\n",
    "# Display the most consistent regions\n",
    "Region_GDP_consistent"
   ]
  },
  {
   "cell_type": "markdown",
   "id": "66623005",
   "metadata": {},
   "source": [
    "# Insights:\n",
    "        The above data shows that Western africa has more consistent GDP per capita"
   ]
  },
  {
   "cell_type": "markdown",
   "id": "65d73640",
   "metadata": {},
   "source": [
    "# Top five regions having wrt Agri Produce index"
   ]
  },
  {
   "cell_type": "code",
   "execution_count": 11,
   "id": "e6b96620",
   "metadata": {},
   "outputs": [
    {
     "data": {
      "image/png": "[encoded data removed]",
      "text/plain": [
       "<Figure size 720x720 with 1 Axes>"
      ]
     },
     "metadata": {
      "needs_background": "light"
     },
     "output_type": "display_data"
    }
   ],
   "source": [
    "Region_agri = pd.DataFrame(country_data.groupby(['Region'])['Agricultural production index '].sum()).reset_index()\n",
    "\n",
    "Region_agri_top = Region_agri.sort_values(by=\"Agricultural production index \",ascending=False).head(5)\n",
    "\n",
    "plt.figure(figsize=(10,10))\n",
    "sns.barplot(x=\"Region\",y=\"Agricultural production index \",data=Region_agri_top)\n",
    "plt.title(\"Top five regions having wrt Agri Produce index (SUM)\")\n",
    "plt.show()"
   ]
  },
  {
   "cell_type": "markdown",
   "id": "d79d04a4",
   "metadata": {},
   "source": [
    "# Five regions having wrt Low Agri Produce index"
   ]
  },
  {
   "cell_type": "code",
   "execution_count": 12,
   "id": "ac1d543d",
   "metadata": {},
   "outputs": [
    {
     "data": {
      "image/png": "[encoded data removed]",
      "text/plain": [
       "<Figure size 720x720 with 1 Axes>"
      ]
     },
     "metadata": {
      "needs_background": "light"
     },
     "output_type": "display_data"
    }
   ],
   "source": [
    "Region_agri_bottom = Region_agri.sort_values(by=\"Agricultural production index \",ascending=True).head(5)\n",
    "\n",
    "plt.figure(figsize=(10,10))\n",
    "sns.barplot(x=\"Region\",y=\"Agricultural production index \",data=Region_agri_bottom)\n",
    "plt.title(\"Five regions having wrt Low Agri Produce index (SUM)\")\n",
    "plt.show()"
   ]
  },
  {
   "cell_type": "markdown",
   "id": "d047709b",
   "metadata": {},
   "source": [
    "# Densely populated regions"
   ]
  },
  {
   "cell_type": "code",
   "execution_count": 13,
   "id": "1a2a049a",
   "metadata": {},
   "outputs": [
    {
     "data": {
      "image/png": "[encoded data removed]",
      "text/plain": [
       "<Figure size 720x720 with 1 Axes>"
      ]
     },
     "metadata": {
      "needs_background": "light"
     },
     "output_type": "display_data"
    }
   ],
   "source": [
    "Region_population = pd.DataFrame(country_data.groupby(['Region'])['Population in thousands (2017)'].sum()).reset_index()\n",
    "\n",
    "Region_population_top = Region_population.sort_values(by=\"Population in thousands (2017)\",ascending=False).head(5)\n",
    "\n",
    "plt.figure(figsize=(10,10))\n",
    "sns.barplot(x=\"Region\",y=\"Population in thousands (2017)\",data=Region_population_top)\n",
    "plt.title(\"Densely populated regions\")\n",
    "plt.show()"
   ]
  },
  {
   "cell_type": "markdown",
   "id": "89800aaf",
   "metadata": {},
   "source": [
    "# Regions with low population"
   ]
  },
  {
   "cell_type": "code",
   "execution_count": 14,
   "id": "f0fce4d0",
   "metadata": {},
   "outputs": [
    {
     "data": {
      "image/png": "[encoded data removed]",
      "text/plain": [
       "<Figure size 720x720 with 1 Axes>"
      ]
     },
     "metadata": {
      "needs_background": "light"
     },
     "output_type": "display_data"
    }
   ],
   "source": [
    "Region_population = pd.DataFrame(country_data.groupby(['Region'])['Population in thousands (2017)'].sum()).reset_index()\n",
    "\n",
    "Region_population_low = Region_population.sort_values(by=\"Population in thousands (2017)\",ascending=True).head(5)\n",
    "\n",
    "plt.figure(figsize=(10,10))\n",
    "sns.barplot(x=\"Region\",y=\"Population in thousands (2017)\",data=Region_population_low)\n",
    "plt.title(\"Regions with low population\")\n",
    "plt.show()"
   ]
  },
  {
   "cell_type": "markdown",
   "id": "02230a82",
   "metadata": {},
   "source": [
    "# High Importing Countries"
   ]
  },
  {
   "cell_type": "code",
   "execution_count": 15,
   "id": "4b3fe1fb",
   "metadata": {},
   "outputs": [
    {
     "data": {
      "text/plain": [
       "Text(0, 0.5, 'Imports in million')"
      ]
     },
     "execution_count": 15,
     "metadata": {},
     "output_type": "execute_result"
    },
    {
     "data": {
      "image/png": "[encoded data removed]",
      "text/plain": [
       "<Figure size 1080x720 with 1 Axes>"
      ]
     },
     "metadata": {
      "needs_background": "light"
     },
     "output_type": "display_data"
    }
   ],
   "source": [
    "Region_Imports =  pd.DataFrame(country_data.groupby(['Region'])['International trade: Imports (million US$)'].sum()).reset_index()\n",
    "Region_Imports_high = Region_Imports.sort_values(by=\"International trade: Imports (million US$)\",ascending=False).head(5)\n",
    "ax = Region_Imports_high[['International trade: Imports (million US$)']].plot(kind='bar', title =\"High Importing Countries\", \n",
    "    figsize=(15, 10), legend=True, fontsize=12)\n",
    "ax.set_xlabel(\"Region\", fontsize=12)\n",
    "ax.set_ylabel(\"Imports in million\", fontsize=12)"
   ]
  },
  {
   "cell_type": "markdown",
   "id": "bac0dbaf",
   "metadata": {},
   "source": [
    "# Top 5 Importers"
   ]
  },
  {
   "cell_type": "code",
   "execution_count": 16,
   "id": "2cf2b007",
   "metadata": {},
   "outputs": [
    {
     "data": {
      "image/png": "[encoded data removed]",
      "text/plain": [
       "<Figure size 720x360 with 1 Axes>"
      ]
     },
     "metadata": {
      "needs_background": "light"
     },
     "output_type": "display_data"
    }
   ],
   "source": [
    "Region_Imports =  pd.DataFrame(country_data.groupby(['Region'])['International trade: Imports (million US$)'].sum()).reset_index()\n",
    "Region_Imports_high = Region_Imports.sort_values(by=\"International trade: Imports (million US$)\",ascending=False).head(5)\n",
    "\n",
    "xRegions = Region_Imports_high['Region']\n",
    "yImports = Region_Imports_high['International trade: Imports (million US$)']\n",
    "fig = plt.figure(figsize=(10,5))\n",
    "plt.bar(xRegions,yImports,color='yellow',width=0.3)\n",
    "plt.xlabel(\"Regions\")\n",
    "plt.ylabel(\"Import in million dollars\")\n",
    "plt.title(\"Top 5 Importers\")\n",
    "plt.show()"
   ]
  },
  {
   "cell_type": "markdown",
   "id": "59fdb96f",
   "metadata": {},
   "source": [
    "# Wealthiest regions"
   ]
  },
  {
   "cell_type": "code",
   "execution_count": 21,
   "id": "4ea8fa0d",
   "metadata": {},
   "outputs": [
    {
     "data": {
      "image/png": "[encoded data removed]",
      "text/plain": [
       "<Figure size 720x360 with 1 Axes>"
      ]
     },
     "metadata": {
      "needs_background": "light"
     },
     "output_type": "display_data"
    }
   ],
   "source": [
    "Region_GDP =  pd.DataFrame(country_data.groupby(['Region'])['GDP per capita (current US$)'].mean()).reset_index()\n",
    "Region_GDP_high = Region_GDP.sort_values(by=\"GDP per capita (current US$)\",ascending=False).head(5)\n",
    "\n",
    "xRegions = Region_GDP_high['Region']\n",
    "yGDP = Region_GDP_high['GDP per capita (current US$)']\n",
    "fig = plt.figure(figsize=(10,5))\n",
    "plt.bar(xRegions,yGDP,color='brown',width=0.3)\n",
    "plt.xlabel(\"Regions\")\n",
    "plt.ylabel(\"GDP Per capita\")\n",
    "plt.title(\"Wealthiest regions\")\n",
    "plt.show()\n"
   ]
  },
  {
   "cell_type": "markdown",
   "id": "e6428801",
   "metadata": {},
   "source": [
    "# Poorest regions"
   ]
  },
  {
   "cell_type": "code",
   "execution_count": 18,
   "id": "887f2b8a",
   "metadata": {},
   "outputs": [
    {
     "data": {
      "image/png": "[encoded data removed]",
      "text/plain": [
       "<Figure size 720x360 with 1 Axes>"
      ]
     },
     "metadata": {
      "needs_background": "light"
     },
     "output_type": "display_data"
    }
   ],
   "source": [
    "Region_GDP =  pd.DataFrame(country_data.groupby(['Region'])['GDP per capita (current US$)'].mean()).reset_index()\n",
    "Region_GDP_low = Region_GDP.sort_values(by=\"GDP per capita (current US$)\",ascending=True).head(5)\n",
    "\n",
    "xRegions = Region_GDP_low['Region']\n",
    "yGDP = Region_GDP_low['GDP per capita (current US$)']\n",
    "fig = plt.figure(figsize=(10,5))\n",
    "plt.bar(xRegions,yGDP,color='khaki',width=0.3)\n",
    "plt.xlabel(\"Regions\")\n",
    "plt.ylabel(\"GDP Per capita\")\n",
    "plt.title(\"Poorest regions\")\n",
    "plt.show()"
   ]
  }
 ],
 "metadata": {
  "kernelspec": {
   "display_name": "Python 3",
   "language": "python",
   "name": "python3"
  },
  "language_info": {
   "codemirror_mode": {
    "name": "ipython",
    "version": 3
   },
   "file_extension": ".py",
   "mimetype": "text/x-python",
   "name": "python",
   "nbconvert_exporter": "python",
   "pygments_lexer": "ipython3",
   "version": "3.8.8"
  }
 },
 "nbformat": 4,
 "nbformat_minor": 5
}
